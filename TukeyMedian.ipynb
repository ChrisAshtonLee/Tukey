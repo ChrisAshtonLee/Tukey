{
 "cells": [
  {
   "cell_type": "code",
   "execution_count": 1,
   "id": "a6e38f32-955c-4acb-aa44-d8dd1cf81fbf",
   "metadata": {},
   "outputs": [],
   "source": [
    "import numpy as np\n",
    "import numpy.matlib\n",
    "import matplotlib.pyplot as plt\n",
    "from shapely import Polygon,Point,MultiPoint,LineString\n",
    "from scipy.spatial import ConvexHull\n",
    "from itertools import combinations\n",
    "from shapely.ops import unary_union\n",
    "from IPython.display import display, clear_output\n",
    "from matplotlib import animation\n",
    "from sympy import symbols\n",
    "import numpy.matlib\n",
    "import matplotlib.colors as mcolors\n",
    "import shapely as shapely\n",
    "import random\n",
    "import pandas as pd\n",
    "def getPotRegions(X,imp):\n",
    "    Bx= np.zeros((len(X),4,2));\n",
    "    for i in range(len(X)):\n",
    "        Bx[i,0,:]= [X[i][0]-imp, X[i][1]+imp]\n",
    "        Bx[i,1,:]= [X[i][0]+imp, X[i][1]+imp]\n",
    "        Bx[i,2,:]= [X[i][0]+imp, X[i][1]-imp]\n",
    "        Bx[i,3,:]= [X[i][0]-imp, X[i][1]-imp]\n",
    "    return(Bx);\n",
    "def getPotRegions_var(X,imp):\n",
    "    Bx= np.zeros((len(X),4,2));\n",
    "    for i in range(len(X)):\n",
    "        Bx[i,0,:]= [X[i][0]-imp[i], X[i][1]+imp[i]]\n",
    "        Bx[i,1,:]= [X[i][0]+imp[i], X[i][1]+imp[i]]\n",
    "        Bx[i,2,:]= [X[i][0]+imp[i], X[i][1]-imp[i]]\n",
    "        Bx[i,3,:]= [X[i][0]-imp[i], X[i][1]-imp[i]]\n",
    "    return(Bx);\n",
    "def getPotRegions_var2(X,imp):\n",
    "    Bx= np.zeros((len(X),4,2));\n",
    "    for i in range(len(X)):\n",
    "        Bx[i,0,:]= [float(X[i][0]-imp[i]), float(X[i][1]+imp[i])]\n",
    "        Bx[i,1,:]= [float(X[i][0]+imp[i]), float(X[i][1]+imp[i])]\n",
    "        Bx[i,2,:]= [float(X[i][0]+imp[i]), float(X[i][1]-imp[i])]\n",
    "        Bx[i,3,:]= [float(X[i][0]-imp[i]), float(X[i][1]-imp[i])]\n",
    "    return(Bx);\n",
    "def CPIH_Safepoint(n,Bx,Xi):\n",
    "    k = int(np.floor(2/3*n)+1);\n",
    "    n = np.arange(n);\n",
    "\n",
    "    combk = list(combinations(n,k));\n",
    "    safeX = [];\n",
    "    safeY =[];\n",
    "    first= True;\n",
    "    CPIH= Polygon();\n",
    "    #testing\n",
    "   \n",
    "    for C in combk:\n",
    "        if Xi in C:\n",
    "            comb3 = list(combinations(C,3));\n",
    "            dp1 =[];\n",
    "            Chull = Polygon();\n",
    "            for i in range(len(comb3)):\n",
    "                comb2 = list(combinations(comb3[i][:],2))\n",
    "                b1 = int(comb3[i][0]);\n",
    "                b2 = int(comb3[i][1]);\n",
    "                b3 = int(comb3[i][2]);\n",
    "                dp1 = np.vstack((Bx[b1,:,:],Bx[b2,:,:],Bx[b3,:,:]));\n",
    "                idx = ConvexHull(dp1);\n",
    "                dp1 = Polygon(dp1[idx.vertices,:]);\n",
    "                dp2 = Polygon();\n",
    "                for j in range(len(comb2)):\n",
    "                    a1 = comb2[j][0];\n",
    "                    a2 = comb2[j][1];\n",
    "                    temp= np.vstack((Bx[a1,:,:],Bx[a2,:,:]));\n",
    "                    idx = ConvexHull(temp);\n",
    "                    temp =  Polygon(temp[idx.vertices,:]);\n",
    "                    dp2 = unary_union([dp2,temp])\n",
    "                diff = dp1.difference(dp2);\n",
    "                Chull= unary_union([Chull,diff]);\n",
    "\n",
    "\n",
    "            if (first and not Chull.is_empty):\n",
    "                CPIH = Polygon(Chull.convex_hull);\n",
    "\n",
    "            else:\n",
    "                #NEW \n",
    "                if not Chull.is_empty:\n",
    "                    Chull = Polygon(Chull.convex_hull);\n",
    "                #ENDNEW\n",
    "                CPIH = CPIH.intersection(Chull);\n",
    "                if not CPIH.geom_type == 'Polygon' and not CPIH.is_empty:\n",
    "\n",
    "                    for member in CPIH.geoms:\n",
    "                        if member.geom_type == 'Polygon':\n",
    "                            CPIH = member;\n",
    "\n",
    "\n",
    "                if CPIH.is_empty:\n",
    "                    return [0,0];\n",
    "                    break;\n",
    "            first = False;\n",
    "    safeX,safeY = np.array(CPIH.exterior.xy)\n",
    "        #safeX.append(x);\n",
    "        #safeY.append(y);\n",
    "    return [safeX,safeY];\n",
    "    #return CPIH\n",
    "def maxDist(Xi,safeX,safeY):\n",
    "    max_dist = 0;\n",
    "    max_indx = [];\n",
    "    for i in range(len(safeX)):\n",
    "        norm = np.linalg.norm(Xi-[safeX[i],safeY[i]]);\n",
    "        if norm> max_dist:\n",
    "            max_dist = norm;\n",
    "            max_indx = [];\n",
    "            max_indx.append(i);\n",
    "        elif norm == max_dist:\n",
    "            max_indx.append(i);\n",
    "            \n",
    "    return [np.mean(safeX[max_indx]),np.mean(safeY[max_indx])],max_dist;\n",
    "def minOrthProj(Xi,Xj,X,f):\n",
    "    JI = Xj-Xi;\n",
    "    mindist = 100;\n",
    "    for i in range(len(X)-f):\n",
    "        if any(X[i] != Xi) and any(X[i] != Xj):\n",
    "            AB = X[i]-Xi;\n",
    "            \n",
    "            AB_orth = np.array([-AB[1],AB[0]]);\n",
    "            alt = np.linalg.norm(np.dot(AB_orth,JI)/pow(np.linalg.norm(AB_orth),2)*AB_orth);\n",
    "            if alt < mindist:\n",
    "                mindist = alt;\n",
    "    return mindist;\n",
    "\n",
    "def get_colors(n,f):\n",
    "    colors = [plt.cm.get_cmap('viridis',n-f)(i) for i in range(n-f)];\n",
    "    for attacker in range(f):\n",
    "        colors.append('r')\n",
    "    return colors\n",
    "def ExtractX(lst,i):\n",
    "    return [item[i][0] for item in lst]\n",
    "def ExtractY(lst,i):\n",
    "    return [item[i][1] for item in lst]\n",
    "\n",
    "def plothull(X):\n",
    "    hull = ConvexHull(X);\n",
    "    hullx = np.append(X[hull.vertices,0],X[hull.vertices[0],0]);\n",
    "    hully = np.append(X[hull.vertices,1],X[hull.vertices[0],1]);\n",
    "    plt.plot(hullx,hully);\n",
    "def calcsafepoint(n,Bx):\n",
    "    n = np.arange(n);\n",
    "    comb3 = list(combinations(n,3));\n",
    "    safeX = [];\n",
    "    safeY =[];\n",
    "    dp1 =[]\n",
    "    for i in range(len(comb3)):\n",
    "        comb2 = list(combinations(comb3[i][:],2))\n",
    "        b1 = int(comb3[i][0]);\n",
    "        b2 = int(comb3[i][1]);\n",
    "        b3 = int(comb3[i][2]);\n",
    "        dp1 = np.vstack((Bx[b1,:,:],Bx[b2,:,:],Bx[b3,:,:]));\n",
    "        idx = ConvexHull(dp1);\n",
    "        dp1 = Polygon(dp1[idx.vertices,:]);\n",
    "        dp2 = Polygon();\n",
    "        for j in range(len(comb2)):\n",
    "            a1 = comb2[j][0];\n",
    "            a2 = comb2[j][1];\n",
    "            temp= np.vstack((Bx[a1,:,:],Bx[a2,:,:]));\n",
    "            idx = ConvexHull(temp);\n",
    "            temp =  Polygon(temp[idx.vertices,:]);\n",
    "            dp2 = unary_union([dp2,temp])\n",
    "        diff = dp1.difference(dp2);\n",
    "        x,y = np.array(diff.exterior.xy)\n",
    "        safeX.append(x);\n",
    "        safeY.append(y);\n",
    "    return [safeX,safeY]; \n",
    "def DBCPIH(n,Xn,Xi):\n",
    "    k = int(np.floor(2/3*n)+1);\n",
    "    n = np.arange(n);\n",
    "    DBCPIH= Polygon();\n",
    "    combk = list(combinations(n,k));\n",
    "    safeX = [];\n",
    "    safeY =[];\n",
    "    first= True;\n",
    "  \n",
    "    for C in combk:\n",
    "        v =[]\n",
    "        comb3 = list(combinations(C,3));\n",
    "        for i in range(len(comb3)):\n",
    "            safePoint = 1/3*(Xn[comb3[i][0]][:]+Xn[comb3[i][1]][:]+Xn[comb3[i][2]][:]);\n",
    "            v.append(safePoint)\n",
    "        v_empty = True\n",
    "        \n",
    "        for array in v:\n",
    "            if v_empty:\n",
    "                temp = array\n",
    "                v_empty = False\n",
    "            else:\n",
    "                temp= np.vstack((temp,array));\n",
    "      \n",
    "        idx = ConvexHull(temp)\n",
    "      \n",
    "        Chull  = Polygon(temp[idx.vertices][:])\n",
    "        if (first and DBCPIH.is_empty):\n",
    "                DBCPIH = Polygon(Chull.convex_hull);\n",
    "                first = False;\n",
    "        else:\n",
    "            DBCPIH = DBCPIH.intersection(Chull)\n",
    "           \n",
    "    if DBCPIH.geom_type == 'Polygon':\n",
    "        safeX,safeY = np.array(DBCPIH.exterior.xy)\n",
    "        return np.array((np.mean(safeX), np.mean(safeY)))\n",
    "    elif DBCPIH.geom_type == 'Point':\n",
    "        try:\n",
    "            safeX,safeY = [DBCPIH.x, DBCPIH.y];\n",
    "        except:\n",
    "            safeX,safeY = np.array((0,0))\n",
    "        print(np.array((safeX,safeY)))\n",
    "        return np.array((safeX,safeY)).T\n",
    "def getCenterpoint(n,X,i):\n",
    "    n = np.arange(n);\n",
    "    combk = list(combinations(n,5));\n",
    "    safeX = [];\n",
    "    safeY =[];\n",
    "    dp1 =[]\n",
    "    first = True;\n",
    "    success = True;\n",
    "    safeHull = Polygon();\n",
    "    for comb in combk:\n",
    "        Xc= np.zeros((5,2));\n",
    "        j = 0;\n",
    "        for idx in comb:\n",
    "            Xc[j,:] = X[idx,:];\n",
    "            j+=1;\n",
    "        hullk = ConvexHull(Xc);\n",
    "         \n",
    "        dp1 = Polygon(Xc[hullk.vertices,:]);\n",
    "        if safeHull.is_empty:\n",
    "            safeHull = dp1;\n",
    "        try:\n",
    "            safeHull = safeHull.intersection(dp1);\n",
    "        except:\n",
    "            print(\"could not compute centerpoint for \",X)\n",
    "            safeHull = safeHull\n",
    "            success = False\n",
    "    if safeHull.geom_type == 'Polygon':\n",
    "        safeX,safeY = np.array(safeHull.exterior.xy)\n",
    "        if safeX == [] or safeY == []:\n",
    "            safeX = 0\n",
    "            safeY = 0\n",
    "        return[safeX,safeY]\n",
    "    elif safeHull.geom_type == 'LineString' or safeHull.geom_type == \"Point\":\n",
    "        safepoints = np.array(shapely.get_coordinates(safeHull).tolist())\n",
    "        safeX = safepoints[:,0]\n",
    "        safeY = safepoints[:,1]\n",
    "    elif safeHull is None:\n",
    "        return [0,0]\n",
    "    else:\n",
    "        return [0,0]\n",
    "      "
   ]
  },
  {
   "cell_type": "code",
   "execution_count": 2,
   "id": "ac9cf36b",
   "metadata": {},
   "outputs": [],
   "source": [
    "def Intersect(a1,a2,b1,b2):\n",
    "    x = (b2-b1)/(a1-a2)\n",
    "    y = a1*x+b1\n",
    "    return (np.array((x,y)))\n",
    "    \n",
    "def TukeyMedian(X):\n",
    "    temp =[]\n",
    "    k_levels = []\n",
    "    lower_klevels = []\n",
    "    upper_klevels = []\n",
    "    idx = 0\n",
    "    step =0\n",
    "    pointies =[]\n",
    "    checkpoints = []\n",
    "    minX = np.abs(min(X[:,0]))\n",
    "    minY = np.abs(min(X[:,1]))\n",
    "    offset = max(minX,minY)\n",
    "    for x in X:\n",
    "        x[0] = x[0]+offset\n",
    "        x[1] = x[1]+offset\n",
    "    for n in range(len(X)-1):\n",
    "        k_levels.append([])\n",
    "        lower_klevels.append([])\n",
    "        upper_klevels.append([])\n",
    "    for n in range(len(X)):\n",
    "        a1 = X[n][0]\n",
    "        b1 = X[n][1]\n",
    "        for q in range(n+1,len(X)):\n",
    "            a2 =X[q][0]\n",
    "            b2 = X[q][1]\n",
    "            \n",
    "            if not (a1 == a2 and b1 == b2):\n",
    "               \n",
    "                if a1 != a2:\n",
    "                    point= Intersect(-a1,-a2,b1,b2)\n",
    "                    k,val = vert_intersect(X,point)\n",
    "                   # for z in range(k+1):\n",
    "                    k_levels[k].append(point)\n",
    "                    if val == -1:\n",
    "                        lower_klevels[k].append(point)\n",
    "                    if val ==1:\n",
    "                        upper_klevels[k].append(point)\n",
    "    \n",
    "    for i in range(len(k_levels)):\n",
    "        arr = np.array(k_levels[i])\n",
    "        k_levels[i] = np.unique(arr, axis =0)\n",
    "        if len(k_levels[i])>0:\n",
    "            idx = i;\n",
    "    empty = True\n",
    "    while empty:\n",
    "        empty,kverts,pointies = checkPrimal(k_levels[idx],upper_klevels[idx],lower_klevels[idx],idx)\n",
    "        if idx == 2:\n",
    "            checkpoints = pointies\n",
    "        step = step+1\n",
    "        if empty and idx != 0:\n",
    "            idx = idx-1;\n",
    "        if step>200:\n",
    "            \n",
    "            empty = False\n",
    "    arr = np.array(kverts)\n",
    "    kverts = np.unique(arr,axis=0)\n",
    "    for v in kverts:\n",
    "        v[0] = v[0]-offset\n",
    "        v[1] = v[1]-offset\n",
    "    for c in checkpoints:\n",
    "        c[0] = c[0]-offset\n",
    "        c[1] = c[1]-offset\n",
    "    for x in X:\n",
    "        x[0] = x[0]-offset\n",
    "        x[1] = x[1]-offset\n",
    "    if len(kverts)>2:\n",
    "        try:\n",
    "            index = ConvexHull(kverts);\n",
    "            kverts=  kverts[index.vertices,:]\n",
    "        except:\n",
    "            index = 0\n",
    "    \n",
    "    return idx,kverts#,checkpoints#,upper_klevels,lower_klevels,k_levels,checkpoints\n",
    "                     \n",
    "def vert_intersect(X,point):\n",
    "    upper = 0\n",
    "    lower = 0\n",
    "    k =0\n",
    "    for x in X:\n",
    "        a = -x[0]\n",
    "        b = x[1]\n",
    "        if (a*point[0]+b>point[1] and np.abs(a*point[0]+b- point[1])>.000001):\n",
    "            upper= upper+1\n",
    "        if (a*point[0]+b<point[1] and np.abs(a*point[0]+b- point[1])>.000001):\n",
    "            lower = lower+1\n",
    "    if lower<upper:\n",
    "        k = lower\n",
    "        return (k,-1)\n",
    "    if upper<lower:\n",
    "        k = upper\n",
    "        return(k,1)\n",
    "    if upper == lower:\n",
    "        k = upper\n",
    "        return(k,0)\n",
    "def checkPrimal(k_levels,upper_klevels,lower_klevels,idx):\n",
    "    import ipdb\n",
    "    intersection_empty = True\n",
    "    kverts =[]\n",
    "    pointies = []\n",
    "    for i in range(len(k_levels)-1):\n",
    "        a1 = k_levels[i][0];\n",
    "        b1 = k_levels[i][1];\n",
    "        for j in range(i+1,len(k_levels)):\n",
    "            a2 = k_levels[j][0];\n",
    "            b2 = k_levels[j][1];\n",
    "            if a1 != a2:\n",
    "                m = (b1-b2)/(a1-a2)\n",
    "                b = b1-m*a1\n",
    "                point = np.array((m,b))\n",
    "           # if a1 != a2:\n",
    "            #    point = Intersect(a1,a2,b1,b2)\n",
    "                pointies.append(np.array((-point[0],point[1])))\n",
    "               \n",
    "                lower_intersection = True\n",
    "                upper_intersection = True\n",
    "                for l in lower_klevels:\n",
    "                    if point[1]<-l[0]*point[0]+l[1]-.00001:\n",
    "                        lower_intersection = False\n",
    "                for u in upper_klevels:\n",
    "                    if point[1]>-u[0]*point[0]+u[1]+.00001:\n",
    "                        upper_intersection = False\n",
    "                if upper_intersection and lower_intersection:\n",
    "                    intersection_empty = False\n",
    "                    point[0] = -point[0]\n",
    "                    kverts.append(point)\n",
    "\n",
    "    return intersection_empty,kverts,pointies\n",
    "    "
   ]
  },
  {
   "cell_type": "code",
   "execution_count": 12,
   "id": "dc33f7d9",
   "metadata": {},
   "outputs": [],
   "source": [
    "def TukeyMedian2(X):\n",
    "    upperklevels = []\n",
    "    lowerklevels= []\n",
    "    TKl = 0\n",
    "    TKu = 0\n",
    "    TK = 0\n",
    "    kverts = []\n",
    "    pverts =[]\n",
    "\n",
    "    for i in range(int(len(X)/2)+1):\n",
    "        upperklevels.append([])\n",
    "        lowerklevels.append([])\n",
    "    for i in range(len(X)-1):\n",
    "        for j in range(i+1,len(X)):\n",
    "            m = (X[i][1]-X[j][1])/(X[i][0]-X[j][0])\n",
    "            b = X[i][1]-X[i][0]*m\n",
    "            upper = 0\n",
    "            lower = 0\n",
    "            for x in X:\n",
    "                if x[1]>m*x[0]+b+.0001:\n",
    "                    upper= upper+1\n",
    "                if x[1]<m*x[0]+b-.0001:\n",
    "                    lower = lower+1\n",
    "            if upper<lower:\n",
    "                upperklevels[upper].append((m,b))\n",
    "                if upper>TKu:\n",
    "                    TKu = upper\n",
    "            if lower<upper:\n",
    "                lowerklevels[lower].append((m,b))\n",
    "                if lower>TKl:\n",
    "                    TKl = lower\n",
    "    \n",
    "    TK = min([TKu,TKl])\n",
    "    klevels = []\n",
    "    test = True\n",
    "    step = 0\n",
    "    while len(kverts)<1:\n",
    "\n",
    "        TK = min([TKu,TKl])-step\n",
    "        klevels = []\n",
    "        test = True\n",
    "        step=step+1\n",
    "\n",
    "        for u in upperklevels[TK]:\n",
    "            klevels.append(u)\n",
    "        for l in lowerklevels[TK]:\n",
    "            klevels.append(l)\n",
    "        for l1 in klevels:\n",
    "            for l2 in klevels:\n",
    "                if l1[0]!= l2[0]:\n",
    "                    is_vert = True\n",
    "                    pvert = Intersect(l1[0],l2[0],l1[1],l2[1])\n",
    "                    #print(pvert)\n",
    "                    pverts.append(pvert)\n",
    "                    for u in upperklevels[TK]:\n",
    "                        if u!= l1 and u!=l2:\n",
    "                            if pvert[1]> u[0]*pvert[0]+u[1]+.0001:\n",
    "                                is_vert = False\n",
    "                         #       print(pvert, ' > ', 'u: ', u)\n",
    "                    for l in lowerklevels[TK]:\n",
    "                        if l!= l1 and l!=l2:\n",
    "                            if pvert[1]< l[0]*pvert[0]+l[1]-.0001:\n",
    "                                is_vert = False\n",
    "                        #        print(pvert,' < ', 'l: ',l)\n",
    "                    if is_vert:\n",
    "                       # print('good',pvert)\n",
    "                        kverts.append(pvert)\n",
    "  \n",
    "    return TK, kverts#,lowerklevels[TK],upperklevels[TK],pverts\n",
    "                        \n",
    "                "
   ]
  },
  {
   "cell_type": "code",
   "execution_count": 95,
   "id": "913ca2fd",
   "metadata": {},
   "outputs": [
    {
     "name": "stdout",
     "output_type": "stream",
     "text": [
      "2\n",
      "[array([51.883765  , 45.39734681]), array([53.74305085, 40.49559322]), array([51.883765  , 45.39734681]), array([49.30050688, 41.88124547]), array([49.37188329, 39.2403183 ]), array([50.82113737, 37.16214264]), array([49.30050688, 41.88124547]), array([49.37188329, 39.2403183 ]), array([53.74305085, 40.49559322]), array([50.82113737, 37.16214264])]\n"
     ]
    }
   ],
   "source": [
    "X = np.array(((60,24),(56,51),(49,53),(50,16),(91,83),(7,100),(20,2)))\n",
    "idx,kverts = TukeyMedian2(X)\n",
    "print(idx)\n",
    "print(kverts)"
   ]
  },
  {
   "cell_type": "code",
   "execution_count": 92,
   "id": "2d8d264b",
   "metadata": {},
   "outputs": [
    {
     "name": "stdout",
     "output_type": "stream",
     "text": [
      "[(-26.325586921140463, -29.02491387035753), (0.28282324215165583, -2.626939452909935), (-1.8312992496850056, 0.5100057762110302), (1.2292922579087364, -8.305753547452419), (-1.0997933994120128, -0.20396145174864166)]\n"
     ]
    }
   ],
   "source": [
    "print(lowerklevels[2])"
   ]
  },
  {
   "cell_type": "code",
   "execution_count": 4,
   "id": "6c330b60-15b4-48a2-bfc9-1a5272c1b2c9",
   "metadata": {
    "tags": []
   },
   "outputs": [],
   "source": [
    "def attackerTarget(X):\n",
    "    n = (int)(np.floor(len(X)/2))\n",
    "    X = X[X[:,0].argsort()]\n",
    "    left = X[0:n]\n",
    "    right = X[n: ]\n",
    "    point = np.array((0,0))\n",
    "    goodlm = 0\n",
    "    goodlb = 0\n",
    "    goodrm = 0\n",
    "    goodrb = 0\n",
    "    r2tested = []\n",
    "    setmin = 0\n",
    "    for l in left:\n",
    "        l_idx = np.where(left ==l)[0][0]\n",
    "        for l2 in left[l_idx:,:]:\n",
    "            l2_idx = np.where(left ==l)[0][0]\n",
    "            if not (l ==l2).all():\n",
    "                lm = (l2[1]-l[1])/(l2[0]-l[0])\n",
    "                lb = l2[1]-l2[0]*lm\n",
    "                if l2_idx<len(left)-1:\n",
    "                    left_minus = np.vstack((left[0:l_idx],left[l_idx+1:l2_idx],left[l2_idx+1,:]))\n",
    "                else:\n",
    "                    left_minus = np.vstack((left[0:l_idx],left[l_idx+1:l2_idx]))\n",
    "                if isFacet(lm,lb,left_minus,right,-1):\n",
    "                    goodlm = lm\n",
    "                    goodlb = lb\n",
    "                    for r in right:\n",
    "                        r_idx = np.where(right ==r)[0][0]\n",
    "                        for r2 in right[r_idx:,:]:\n",
    "                            r2_idx = np.where(right ==r2)[0][0]\n",
    "                            if not (r == r2).all():\n",
    "                                r2tested.append((r_idx,r2_idx))\n",
    "                                rm = (r2[1]-r[1])/(r2[0]-r[0])\n",
    "                                rb = r2[1]-r2[0]*rm\n",
    "                                if r2_idx<len(right)-1:\n",
    "                                    right_minus = np.vstack((right[0:r_idx],right[r_idx+1:r2_idx],right[r2_idx+1,:]))\n",
    "                                else:\n",
    "                                    right_minus = np.vstack((right[0:r_idx],right[r_idx+1:r2_idx]))\n",
    "                                if isFacet(rm,rb,right_minus, left,1):\n",
    "                                    goodrm = rm\n",
    "                                    goodrb = rb\n",
    "                                    px = (rb-lb)/(lm-rm)\n",
    "                                    py = rm*px+rb\n",
    "                                    #if (l==np.array((7,100))).all() and (l2==np.array((20,2))).all() and (r ==np.array((56,51))).all() and (r2 ==np.array((91,83))).all():\n",
    "                                    y1 = lm*(px+1)+lb\n",
    "                                    y2 = rm*(px-1)+rb\n",
    "                                    point =np.array((px,(y1+y2)/2))\n",
    "                                else:\n",
    "                                    if r_idx == 0 and r2_idx == 2:\n",
    "                                        goodrm =rm\n",
    "                                        goodrb = rb\n",
    "                                        setmin = np.array(right_minus)\n",
    "                                        \n",
    "\n",
    "    return point#,left, right,goodlm,goodlb,goodrm,goodrb,setmin,r2tested\n",
    "def isFacet(m,b,points,opp_points,LR):\n",
    "    if len(points) == 0:\n",
    "        return True\n",
    "    else:\n",
    "        facet = True\n",
    "        under = 0\n",
    "        if LR <0:\n",
    "            if m>0:\n",
    "                for p in points:\n",
    "                    if  p[1] < m*p[0]+b:\n",
    "                        facet = False\n",
    "                for op in opp_points:\n",
    "                    if op[1]>m*op[0]+b:\n",
    "                        facet = False\n",
    "            if m<0:\n",
    "                for p in points:\n",
    "                    if  p[1] > m*p[0]+b:\n",
    "                        facet = False\n",
    "                for op in opp_points:\n",
    "                    if op[1]<m*op[0]+b:\n",
    "                        facet = False\n",
    "        if LR >0:\n",
    "            if m>0:\n",
    "                for p in points:\n",
    "                    if  p[1] > m*p[0]+b:\n",
    "                        facet = False\n",
    "                for op in opp_points:\n",
    "                    if op[1]<m*op[0]+b:\n",
    "                        facet = False\n",
    "            if m<0:\n",
    "                for p in points:\n",
    "                    if  p[1] < m*p[0]+b:\n",
    "                        facet = False\n",
    "                for op in opp_points:\n",
    "                    if op[1]>m*op[0]+b:\n",
    "                        facet = False\n",
    "        return facet\n",
    "    "
   ]
  },
  {
   "cell_type": "code",
   "execution_count": 34,
   "id": "83e54b50",
   "metadata": {},
   "outputs": [
    {
     "name": "stdout",
     "output_type": "stream",
     "text": [
      "[[51.36576445 46.76298464]\n",
      " [53.74305085 40.49559322]\n",
      " [51.36576445 46.76298464]\n",
      " [49.22155237 44.80256217]\n",
      " [49.37188329 39.2403183 ]\n",
      " [50.82113737 37.16214264]\n",
      " [49.22155237 44.80256217]\n",
      " [49.37188329 39.2403183 ]\n",
      " [53.74305085 40.49559322]\n",
      " [50.82113737 37.16214264]]\n"
     ]
    },
    {
     "data": {
      "text/plain": [
       "<matplotlib.collections.PathCollection at 0x18df7fdfe10>"
      ]
     },
     "execution_count": 34,
     "metadata": {},
     "output_type": "execute_result"
    },
    {
     "data": {
      "image/png": "[encoded data removed]",
      "text/plain": [
       "<Figure size 640x480 with 1 Axes>"
      ]
     },
     "metadata": {},
     "output_type": "display_data"
    }
   ],
   "source": [
    "fig,ax = plt.subplots()\n",
    "kverts = np.array(kverts)\n",
    "print(kverts)\n",
    "ax.set_xlim(40,60);\n",
    "ax.set_ylim(20,80);\n",
    "ax.scatter(kverts[:,0],kverts[:,1])\n"
   ]
  },
  {
   "cell_type": "code",
   "execution_count": null,
   "id": "cf7a3eac",
   "metadata": {},
   "outputs": [],
   "source": []
  },
  {
   "cell_type": "code",
   "execution_count": 111,
   "id": "6fc1ffdd",
   "metadata": {},
   "outputs": [
    {
     "name": "stdout",
     "output_type": "stream",
     "text": [
      "[-7.52889812  9.72315339]\n"
     ]
    }
   ],
   "source": [
    "x = Xhist[0][N[0]]\n",
    "#print(x)\n",
    "modx = x[0:5]\n",
    "#print(modx)\n",
    "point,left, right,goodlm,goodlb,goodrm,goodrb,setmin,r2tested= attackerTarget(modx)\n",
    "#point = attackerTarget(modx)\n",
    "print(point)"
   ]
  },
  {
   "cell_type": "code",
   "execution_count": 109,
   "id": "f0d49aec",
   "metadata": {},
   "outputs": [
    {
     "name": "stdout",
     "output_type": "stream",
     "text": [
      "0\n"
     ]
    }
   ],
   "source": [
    "print(goodlb)"
   ]
  },
  {
   "cell_type": "code",
   "execution_count": 89,
   "id": "843eef28",
   "metadata": {},
   "outputs": [],
   "source": [
    "k = 1*np.sign(goodrm)\n",
    "p = setmin[0]\n",
    "\n",
    "if  k*p[1] > goodrm*p[0]+goodrb:\n",
    "    print(\"not a facet: \",k*p[1],\" > \",goodrm,\"*\",p[0],'+',goodrb)\n",
    "for op in left:\n",
    "    if -k*op[1]>goodrm*op[0]+goodrb:\n",
    "        print(\"not a facet: \",k*op[1],\" < \",goodrm,\"*\",op[0],'+',goodrb)"
   ]
  },
  {
   "cell_type": "code",
   "execution_count": 87,
   "id": "5cb35b67",
   "metadata": {},
   "outputs": [
    {
     "name": "stdout",
     "output_type": "stream",
     "text": [
      "[[-4.43552732 -0.33263508]\n",
      " [-3.32331994 -4.3748728 ]]\n"
     ]
    }
   ],
   "source": [
    "print(left)"
   ]
  },
  {
   "cell_type": "code",
   "execution_count": 29,
   "id": "06a68083-70d9-4cd2-bcbb-bf26bf09221b",
   "metadata": {
    "tags": []
   },
   "outputs": [
    {
     "name": "stdout",
     "output_type": "stream",
     "text": [
      "[60 24] = [60 24]\n",
      "[56 51] = [56 51]\n",
      "[49 53] = [49 53]\n",
      "[50 16] = [50 16]\n",
      "[91 83] = [91 83]\n",
      "[  7 100] = [  7 100]\n",
      "[20  2] = [20  2]\n"
     ]
    }
   ],
   "source": [
    "for x in X:\n",
    "    for x2 in X:\n",
    "        if (x==x2).all():\n",
    "            print(x, \"=\" ,x2)"
   ]
  },
  {
   "cell_type": "code",
   "execution_count": 25,
   "id": "f9b6d9e5-a4d8-4b12-a627-62f63a8bae50",
   "metadata": {
    "tags": []
   },
   "outputs": [
    {
     "data": {
      "text/plain": [
       "<matplotlib.collections.PathCollection at 0x1a8bdec2f50>"
      ]
     },
     "execution_count": 25,
     "metadata": {},
     "output_type": "execute_result"
    },
    {
     "data": {
      "image/png": "[encoded data removed]",
      "text/plain": [
       "<Figure size 640x480 with 1 Axes>"
      ]
     },
     "metadata": {},
     "output_type": "display_data"
    }
   ],
   "source": [
    "fig,ax = plt.subplots()\n",
    "ax.scatter(X[:,0],X[:,1],c = 'r')\n",
    "ax.scatter(kverts[:,0],kverts[:,1],c ='b')"
   ]
  },
  {
   "cell_type": "code",
   "execution_count": 19,
   "id": "f2095fec-ae29-4f0d-8218-b1dfc99ae057",
   "metadata": {
    "tags": []
   },
   "outputs": [],
   "source": [
    "temp = Xhist[0]\n",
    "for i in range(1,len(Xhist)):\n",
    "    temp = np.vstack((temp,Xhist[i]))\n",
    "df = pd.DataFrame(temp)\n",
    "df.to_csv(\"Xhist.csv\")"
   ]
  },
  {
   "cell_type": "code",
   "execution_count": 8,
   "id": "879d5ba9-0c79-40e3-8924-abebb8116a04",
   "metadata": {
    "scrolled": true
   },
   "outputs": [
    {
     "name": "stderr",
     "output_type": "stream",
     "text": [
      "C:\\Users\\85chr\\AppData\\Local\\Temp\\ipykernel_33616\\2944431226.py:128: MatplotlibDeprecationWarning: The get_cmap function was deprecated in Matplotlib 3.7 and will be removed two minor releases later. Use ``matplotlib.colormaps[name]`` or ``matplotlib.colormaps.get_cmap(obj)`` instead.\n",
      "  colors = [plt.cm.get_cmap('viridis',n-f)(i) for i in range(n-f)];\n",
      "C:\\Users\\85chr\\AppData\\Local\\Temp\\ipykernel_33616\\4125123053.py:77: UserWarning: *c* argument looks like a single numeric RGB or RGBA sequence, which should be avoided as value-mapping will have precedence in case its length matches with *x* & *y*.  Please use the *color* keyword-argument or provide a 2D array with a single row if you intend to specify the same RGB or RGBA value for all points.\n",
      "  ax.scatter(X[i,0],X[i,1],c= colors[i], marker = 'o',label = lbl,s =50);\n",
      "C:\\Users\\85chr\\AppData\\Local\\Temp\\ipykernel_33616\\4125123053.py:164: UserWarning: *c* argument looks like a single numeric RGB or RGBA sequence, which should be avoided as value-mapping will have precedence in case its length matches with *x* & *y*.  Please use the *color* keyword-argument or provide a 2D array with a single row if you intend to specify the same RGB or RGBA value for all points.\n",
      "  ax.scatter(xplot[endn-1],yplot[endn-1],c = colors[i], marker='x',s=50);\n"
     ]
    },
    {
     "data": {
      "image/png": "[encoded data removed]",
      "text/plain": [
       "<Figure size 640x480 with 1 Axes>"
      ]
     },
     "metadata": {},
     "output_type": "display_data"
    }
   ],
   "source": [
    "fig, ax = plt.subplots()\n",
    "#fig2,ax2 = plt.subplots()\n",
    "\n",
    "n = 12\n",
    "offset = np.ones((n,2))*.5;\n",
    "X= 10*(np.random.rand(n,2)-offset)\n",
    "#n = 6\n",
    "for i in range(n):\n",
    "    theta = 2*np.pi/(n)*i\n",
    "    X[i] = np.array((5*np.cos(theta),5*np.sin(theta)))\n",
    "#X = np.array([(-3,-1), (-3, 4),(0.5 ,-4),(1.5,6),(3.5,2),(4,-1)]);\n",
    "#X[n-1]= np.array((5,1))\n",
    "attackers = [n-1]\n",
    "if n >6:\n",
    "    #X[n-2] = np.array((6,-1))\n",
    "    attackers = [n-2,n-1]\n",
    "if n>9:\n",
    "   # X[n-3] = np.array((7,-3))\n",
    "    attackers = [n-3,n-2,n-1];\n",
    "\n",
    "Xn = np.zeros((n,6,2));\n",
    "#Xn = np.zeros((8,8,2))\n",
    "N = []\n",
    "\n",
    "for i in range(n):\n",
    "    retry = True\n",
    "    while retry:\n",
    "        q = 0\n",
    "        nh = random.sample(range(n),6)\n",
    "        for attacker in attackers:\n",
    "            if attacker in nh:\n",
    "                q= q+1\n",
    "        if q<2:\n",
    "            N.append(nh)\n",
    "            Xn[i][:] = X[N[i]]\n",
    "            retry = False\n",
    "\n",
    "   \n",
    "f = len(attackers);\n",
    "#imp = .5*np.ones((6,6))-.5*np.eye(6);\n",
    "imp = 0.5;\n",
    "colors= get_colors(n,f);\n",
    "empty = False;\n",
    "\n",
    "\n",
    "frames = [];\n",
    "step = 0;\n",
    "emptyCPIH = np.zeros((n,1));\n",
    "Xhist = [];\n",
    "Yhist = [];\n",
    "hull = ConvexHull(X[0:n-f]);\n",
    "xplot = [];\n",
    "yplot = [];\n",
    "ham = 0;\n",
    "#attackerTarget = [np.array((6,6)),np.array((6,6)),np.array((6,-6))]\n",
    "Bx = getPotRegions(X,imp);\n",
    "imprecision = False\n",
    "if imprecision:\n",
    "    for j in range(n):\n",
    "            x = []; y = [];\n",
    "            for k in range(4):\n",
    "                x.append(Bx[j,k,0]);\n",
    "                y.append(Bx[j,k,1]);\n",
    "            x.append(Bx[j,0,0]);\n",
    "            y.append(Bx[j,0,1]);\n",
    "                #ax.scatter(x,y)\n",
    "            ax.plot(x,y,c= colors[j]);\n",
    "imp = 0\n",
    "for v in hull.vertices:\n",
    "    xplot.append(X[v,0]);\n",
    "    yplot.append(X[v,1]);\n",
    "xplot.append(X[hull.vertices[0],0]);\n",
    "yplot.append(X[hull.vertices[0],1]);\n",
    "ax.plot(xplot,yplot,label = 'Conv('+r'$X_0$'+')');\n",
    "for i in range(n-f):\n",
    "    lbl = r'$v_{s1}$'.replace('s1',str(i+1));\n",
    "    ax.scatter(X[i,0],X[i,1],c= colors[i], marker = 'o',label = lbl,s =50);\n",
    "\n",
    "for idx in attackers:\n",
    "    lbl = r'$v_f$'#+str(attackers.index(idx)+1);\n",
    "    ax.scatter(X[idx,0],X[idx,1],c= colors[idx], marker = 'o',label = lbl,s = 50);\n",
    "maxdist = np.zeros((1,602))\n",
    "target = np.zeros((n,2));\n",
    "targetdist=np.zeros((n,1));\n",
    "snapshot= (0,80,160,240,300,600)\n",
    "imphist = [];\n",
    "tm = []\n",
    "while not empty:\n",
    "   \n",
    "    #ax.cla();\n",
    "   # ax.set_xlim(-7,7);\n",
    "   # ax.set_ylim(-7,7);\n",
    "    dt = .01;\n",
    "    n = len(X);\n",
    "    \n",
    "    safeX= [];\n",
    "    safeY=[];\n",
    "    dist = 0;\n",
    "\n",
    "    for i in range(n):\n",
    "        if i not in attackers:\n",
    "                    Xn[i][:] = X[N[i]]#X+np.matlib.repmat(a,6,1);\n",
    "        if i not in attackers:\n",
    "            #safeX,safeY = CPIH_Safepoint(n,Bx,i);\n",
    "            try:\n",
    "                #safeX,safeY = getCenterpoint(6,Xn[i],i);\n",
    "                \n",
    "                theta = 2*np.pi/(n)*i\n",
    "                target[i] = np.array((5*(1/step)*np.cos(theta),5*(1/step)*np.sin(theta)))\n",
    "                #print(\"agent\",i,\" has safepoint:\",np.mean(safeX),\", \",np.mean(safeY))\n",
    "            except:\n",
    "                safeX,safeY = [0,0]\n",
    "                #print(\"no Safepoints\")\n",
    "            #CPIH = CPIH_Safepoint(n,Bx);\n",
    "            #safeX,safeY = optConfig(Xn[i],i,imp);\n",
    "            #if (isinstance(safeX,int) and isinstance(safeY,int)) or safeX.size ==0:\n",
    "                #print('CPIH empty');\n",
    "                #empty = True;\n",
    "             #   emptyCPIH[i] = 1;\n",
    "              #  target[i] = X[i]\n",
    "            #else:\n",
    "             #   target[i] = [np.mean(safeX), np.mean(safeY)];\n",
    "\n",
    "                    \n",
    "               # emptyCPIH[i] =1;\n",
    "         \n",
    "        elif i in attackers:\n",
    "            firstfound = False\n",
    "            for j in range(len(N)):\n",
    "                if not firstfound:\n",
    "                    for k in range(len(N[j])):\n",
    "                        if N[j][k] == i: \n",
    "                            temp = np.delete(X[N[j]],k, axis = 0)\n",
    "                            target[i]= attackerTarget(temp)\n",
    "                            firstfound = True\n",
    "           # target[i] = attackerTarget[attackers.index(i)];\n",
    "       \n",
    "                \n",
    "        \n",
    "\n",
    "    for i in range(n):\n",
    "        X[i]= X[i]+dt*(target[i]-X[i]);\n",
    "\n",
    "    Xhist.append(X.copy());\n",
    "\n",
    "    \n",
    "    \n",
    "    if step>600:\n",
    "        empty = True;\n",
    "\n",
    "  \n",
    "    for i in range(n-len(attackers)):\n",
    "        for j in range(n-len(attackers)):\n",
    "            temp = np.linalg.norm(X[i]-X[j]);\n",
    "            if temp> maxdist[0][step]:\n",
    "                maxdist[0][step] = temp;\n",
    "    step +=1;\n",
    "\n",
    "for i in range(n):\n",
    "    xplot = ExtractX(Xhist,i);\n",
    "    yplot = ExtractY(Xhist,i);\n",
    "    endn = len(xplot);\n",
    "    ax.plot(xplot,yplot,c = colors[i],linestyle='dashed',linewidth= 2);\n",
    "    ax.scatter(xplot[endn-1],yplot[endn-1],c = colors[i], marker='x',s=50);\n",
    "ax.set_xlim(-6,9);\n",
    "ax.set_ylim(-6,9);\n",
    "ax.set_xticks([])\n",
    "ax.set_yticks([])\n",
    "plt.title('|V|= '+str(n),fontsize = 20);\n",
    "plt.savefig(\"Centerpoint_trajectories_n\"+str(n)+\"_f\"+str(f)+\".jpg\")"
   ]
  },
  {
   "cell_type": "code",
   "execution_count": 7,
   "id": "4f995ce7",
   "metadata": {},
   "outputs": [
    {
     "name": "stdout",
     "output_type": "stream",
     "text": [
      "[8 4 5 1 3]\n"
     ]
    }
   ],
   "source": [
    "print(temp)"
   ]
  },
  {
   "cell_type": "code",
   "execution_count": 13,
   "id": "0edbc1cb-d3be-46da-9683-5830d5de3013",
   "metadata": {},
   "outputs": [
    {
     "name": "stderr",
     "output_type": "stream",
     "text": [
      "C:\\Users\\85chr\\AppData\\Local\\Temp\\ipykernel_23760\\3283684609.py:15: RuntimeWarning: divide by zero encountered in scalar divide\n",
      "  m = (X[i][1]-X[j][1])/(X[i][0]-X[j][0])\n",
      "C:\\Users\\85chr\\AppData\\Local\\Temp\\ipykernel_23760\\3283684609.py:20: RuntimeWarning: invalid value encountered in scalar add\n",
      "  if x[1]>m*x[0]+b+.0001:\n",
      "C:\\Users\\85chr\\AppData\\Local\\Temp\\ipykernel_23760\\3283684609.py:22: RuntimeWarning: invalid value encountered in scalar add\n",
      "  if x[1]<m*x[0]+b-.0001:\n"
     ]
    }
   ],
   "source": [
    "TM = []\n",
    "for i in range(len(X)):\n",
    "    TM.append([])\n",
    "    for x in Xhist:\n",
    "        TM[i].append(TukeyMedian2(x))\n"
   ]
  },
  {
   "cell_type": "code",
   "execution_count": 9,
   "id": "0841c1cf-4b08-4cd7-bcf5-0f0a7eaf73e8",
   "metadata": {
    "tags": []
   },
   "outputs": [
    {
     "name": "stderr",
     "output_type": "stream",
     "text": [
      "C:\\Users\\85chr\\AppData\\Local\\Temp\\ipykernel_33616\\3283684609.py:15: RuntimeWarning: divide by zero encountered in scalar divide\n",
      "  m = (X[i][1]-X[j][1])/(X[i][0]-X[j][0])\n",
      "C:\\Users\\85chr\\AppData\\Local\\Temp\\ipykernel_33616\\3283684609.py:20: RuntimeWarning: invalid value encountered in scalar add\n",
      "  if x[1]>m*x[0]+b+.0001:\n",
      "C:\\Users\\85chr\\AppData\\Local\\Temp\\ipykernel_33616\\3283684609.py:22: RuntimeWarning: invalid value encountered in scalar add\n",
      "  if x[1]<m*x[0]+b-.0001:\n"
     ]
    },
    {
     "name": "stdout",
     "output_type": "stream",
     "text": [
      "[4, 4, 4, 4, 4, 4, 4, 4, 4, 4, 4, 4, 4, 4, 4, 4, 4, 4, 4, 4, 4, 4, 4, 4, 4, 4, 4, 4, 4, 4, 4, 4, 4, 4, 4, 4, 4, 4, 4, 4, 4, 4, 4, 4, 4, 4, 4, 4, 4, 4, 4, 4, 4, 4, 4, 4, 4, 4, 4, 4, 4, 4, 4, 4, 4, 4, 4, 4, 4, 4, 4, 4, 4, 4, 4, 4, 4, 4, 4, 4, 4, 4, 4, 4, 4, 4, 4, 4, 4, 4, 4, 4, 4, 4, 4, 4, 4, 4, 4, 4, 4, 4, 4, 4, 4, 4, 4, 4, 4, 4, 4, 4, 4, 4, 4, 4, 4, 4, 4, 4, 4, 4, 4, 4, 4, 4, 4, 4, 4, 4, 4, 4, 4, 4, 4, 4, 4, 4, 4, 4, 4, 4, 4, 4, 4, 4, 4, 4, 4, 4, 4, 4, 4, 4, 4, 4, 4, 4, 4, 4, 4, 4, 4, 4, 4, 4, 4, 4, 4, 4, 4, 4, 4, 4, 4, 4, 4, 4, 4, 4, 4, 4, 4, 4, 4, 4, 4, 4, 4, 4, 4, 4, 4, 4, 4, 4, 4, 4, 5, 5, 5, 4, 4, 4, 4, 4, 4, 4, 4, 5, 4, 4, 4, 4, 4, 4, 4, 4, 4, 5, 4, 4, 4, 4, 5, 4, 4, 5, 5, 4, 4, 4, 4, 4, 4, 4, 4, 4, 4, 4, 4, 4, 4, 4, 4, 5, 4, 4, 4, 4, 4, 4, 5, 5, 5, 4, 4, 4, 5, 4, 4, 4, 4, 4, 4, 4, 4, 5, 4, 4, 4, 5, 4, 4, 4, 4, 4, 4, 5, 4, 4, 4, 4, 4, 4, 4, 4, 4, 4, 4, 5, 5, 4, 4, 4, 4, 4, 4, 5, 4, 4, 4, 4, 4, 5, 4, 4, 4, 4, 4, 4, 5, 5, 5, 4, 4, 4, 4, 5, 4, 4, 5, 4, 4, 4, 4, 5, 5, 5, 4, 5, 4, 4, 4, 5, 4, 4, 4, 4, 4, 4, 4, 4, 4, 4, 4, 4, 4, 4, 4, 4, 4, 4, 4, 4, 4, 4, 4, 4, 4, 4, 4, 4, 4, 4, 4, 4, 4, 4, 4, 4, 4, 4, 5, 4, 4, 5, 5, 4, 4, 4, 4, 4, 4, 4, 4, 4, 4, 4, 4, 4, 4, 4, 4, 4, 4, 4, 4, 4, 4, 4, 4, 4, 4, 5, 4, 4, 4, 4, 4, 4, 4, 4, 4, 4, 4, 4, 4, 4, 4, 4, 4, 4, 4, 4, 4, 4, 4, 4, 4, 4, 4, 4, 4, 4, 4, 4, 4, 4, 4, 4, 4, 4, 4, 4, 4, 4, 4, 4, 4, 4, 4, 4, 4, 4, 4, 4, 4, 4, 4, 4, 4, 4, 4, 4, 4, 4, 4, 4, 4, 4, 4, 4, 4, 4, 4, 4, 4, 4, 4, 4, 4, 4, 4, 4, 4, 4, 4, 4, 4, 4, 4, 4, 4, 4, 4, 4, 4, 4, 4, 4, 4, 4, 4, 4, 4, 4, 4, 4, 4, 4, 4, 4, 4, 4, 4, 4, 4, 4, 4, 4, 4, 4, 4, 4, 4, 4, 4, 4, 4, 4, 4, 4, 4, 4, 4, 4, 4, 4, 4, 4, 4, 4, 4, 4, 4, 4, 4, 4, 4, 4, 4, 4, 4, 4, 4, 4, 4, 4, 4, 4, 4, 4, 4, 4, 4, 4, 4, 4, 4, 4, 4, 4, 4, 4, 4, 4, 4, 4, 4, 4, 4, 4, 4, 4, 4, 4, 4, 4, 4, 4, 4, 4, 4, 4, 4, 4, 4, 4, 4, 4, 4]\n"
     ]
    }
   ],
   "source": [
    "TM = []\n",
    "for x in Xhist:\n",
    "    TM.append(TukeyMedian2(x))\n",
    "print(TM)"
   ]
  },
  {
   "cell_type": "code",
   "execution_count": 18,
   "id": "bc1aa0b1",
   "metadata": {},
   "outputs": [
    {
     "data": {
      "text/plain": [
       "<matplotlib.collections.PathCollection at 0x2214ef6bf90>"
      ]
     },
     "execution_count": 18,
     "metadata": {},
     "output_type": "execute_result"
    },
    {
     "data": {
      "image/png": "[encoded data removed]",
      "text/plain": [
       "<Figure size 640x480 with 1 Axes>"
      ]
     },
     "metadata": {},
     "output_type": "display_data"
    }
   ],
   "source": [
    "fig, ax = plt.subplots()\n",
    "ax.set_xlim(-10,10);\n",
    "ax.set_ylim(-10,10);\n",
    "ax.scatter(Xhist[0][:,0],Xhist[0][:,1], c = 'b')\n",
    "#ax.scatter(v[:,0],v[:,1],c ='g')"
   ]
  },
  {
   "cell_type": "code",
   "execution_count": 10,
   "id": "2ac9d40f",
   "metadata": {},
   "outputs": [
    {
     "name": "stdout",
     "output_type": "stream",
     "text": [
      "198\n"
     ]
    }
   ],
   "source": [
    "ind = TM.index(5)\n",
    "print(ind)\n"
   ]
  },
  {
   "cell_type": "code",
   "execution_count": 14,
   "id": "5730a181",
   "metadata": {},
   "outputs": [
    {
     "name": "stdout",
     "output_type": "stream",
     "text": [
      "(4, [array([-1.15234826,  1.15234826]), array([-0.7870685 ,  1.36324263]), array([-1.15234826,  1.15234826]), array([-1.38613476,  0.74741816]), array([-0.7870685 ,  1.36324263]), array([-6.24089431e-16,  1.92776184e-16]), array([-7.69185075e-16,  4.44089210e-16]), array([-6.40987562e-16,  2.22044605e-16]), array([-6.24089431e-16,  1.92776184e-16]), array([-1.20447200e-15,  1.92776184e-16]), array([-6.57885693e-16,  1.92776184e-16]), array([-9.57421797e-01,  2.51401360e-16]), array([-7.69185075e-16,  4.44089210e-16]), array([-1.20447200e-15,  1.92776184e-16]), array([-3.84592537e-16,  6.66133815e-16]), array([-6.40987562e-16,  2.22044605e-16]), array([-6.57885693e-16,  1.92776184e-16]), array([-3.84592537e-16,  6.66133815e-16]), array([-1.38613476,  0.74741816]), array([-9.57421797e-01,  2.22044605e-16])])\n"
     ]
    }
   ],
   "source": [
    "print(TukeyMedian2(Xhist[50]))\n",
    "temp = Xhist[50]\n",
    "df = pd.DataFrame(temp)\n",
    "df.to_csv(\"D:\\School\\Cirens\\Xhist.csv\")"
   ]
  },
  {
   "cell_type": "code",
   "execution_count": 13,
   "id": "ead853a6",
   "metadata": {},
   "outputs": [
    {
     "name": "stdout",
     "output_type": "stream",
     "text": [
      "5\n",
      "[array([-2.39756275e+00, -5.86357906e+15]), array([-2.39756275e+00, -5.86357906e+15])]\n"
     ]
    }
   ],
   "source": [
    "depth,verts = TukeyMedian2(Xhist[198])\n",
    "print(depth)\n",
    "print(verts)"
   ]
  },
  {
   "cell_type": "code",
   "execution_count": 15,
   "id": "02d609ea-6030-446f-aa45-a4aad51851d6",
   "metadata": {},
   "outputs": [
    {
     "name": "stdout",
     "output_type": "stream",
     "text": [
      "[[ 7.41808497e-01  0.00000000e+00]\n",
      " [ 6.42425003e-01  3.70904249e-01]\n",
      " [ 3.70904249e-01  6.42425003e-01]\n",
      " [ 4.54226701e-17  7.41808497e-01]\n",
      " [-3.70904249e-01  6.42425003e-01]\n",
      " [-6.42425003e-01  3.70904249e-01]\n",
      " [-7.41808497e-01  9.08453402e-17]\n",
      " [-6.42425003e-01 -3.70904249e-01]\n",
      " [-3.70904249e-01 -6.42425003e-01]\n",
      " [-2.19266692e+00  4.22278571e+00]\n",
      " [-4.21270921e-01 -8.94452822e-01]\n",
      " [-8.13443611e-01 -2.29022971e+00]]\n"
     ]
    }
   ],
   "source": [
    "print(Xhist[198])"
   ]
  },
  {
   "cell_type": "code",
   "execution_count": 16,
   "id": "e1b6d7ac",
   "metadata": {},
   "outputs": [
    {
     "data": {
      "text/plain": [
       "<matplotlib.collections.PathCollection at 0x17cdf2ef550>"
      ]
     },
     "execution_count": 16,
     "metadata": {},
     "output_type": "execute_result"
    },
    {
     "data": {
      "image/png": "[encoded data removed]",
      "text/plain": [
       "<Figure size 640x480 with 1 Axes>"
      ]
     },
     "metadata": {},
     "output_type": "display_data"
    }
   ],
   "source": [
    "fig, ax = plt.subplots()\n",
    "ax.scatter(Xhist[198][:,0], Xhist[198][:,1])\n",
    "hold on;\n",
    "ax.scatter(-2.3975,-5)"
   ]
  },
  {
   "cell_type": "code",
   "execution_count": null,
   "id": "aea14fc8",
   "metadata": {},
   "outputs": [],
   "source": []
  }
 ],
 "metadata": {
  "kernelspec": {
   "display_name": "Python 3 (ipykernel)",
   "language": "python",
   "name": "python3"
  },
  "language_info": {
   "codemirror_mode": {
    "name": "ipython",
    "version": 3
   },
   "file_extension": ".py",
   "mimetype": "text/x-python",
   "name": "python",
   "nbconvert_exporter": "python",
   "pygments_lexer": "ipython3",
   "version": "3.11.5"
  }
 },
 "nbformat": 4,
 "nbformat_minor": 5
}
